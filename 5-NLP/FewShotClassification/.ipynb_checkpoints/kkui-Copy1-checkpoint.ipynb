{
 "cells": [
  {
   "cell_type": "markdown",
   "metadata": {},
   "source": [
    "<center><h1 style=\"font-size:3em\"> Few-shot text classification </h1></center>\n",
    "<br>\n",
    "<center>With pre-trained word embeddings and a human in the loop</center>"
   ]
  },
  {
   "cell_type": "code",
   "execution_count": 1229,
   "metadata": {
    "ExecuteTime": {
     "end_time": "2019-09-06T08:06:47.909528Z",
     "start_time": "2019-09-06T08:06:47.651547Z"
    }
   },
   "outputs": [],
   "source": [
    "import pandas as pd\n",
    "import numpy as np\n",
    "from random import seed\n",
    "from time import time\n",
    "import itertools\n",
    "from random import sample\n",
    "import re\n",
    "import datetime\n",
    "\n",
    "seed(42)\n",
    "np.random.seed(42)\n",
    "\n",
    "from sklearn.model_selection import train_test_split\n",
    "import matplotlib.pyplot as plt\n",
    "\n",
    "from sklearn.pipeline import make_pipeline\n",
    "from sklearn.neighbors import KNeighborsClassifier\n",
    "from sklearn.preprocessing import LabelEncoder\n",
    "\n",
    "import gensim.downloader as api\n",
    "from gensim.models.keyedvectors import Word2VecKeyedVectors\n",
    "\n",
    "from sklearn.pipeline import make_pipeline\n",
    "from sklearn.neighbors import KNeighborsClassifier\n",
    "from sklearn.decomposition import PCA\n",
    "from sklearn.metrics import accuracy_score\n",
    "\n",
    "from nltk.corpus import stopwords\n",
    "\n",
    "from keras.models import Sequential\n",
    "from keras.utils import plot_model\n",
    "from keras.preprocessing.sequence import pad_sequences\n",
    "from keras.models import Model\n",
    "from keras.layers import Input, Embedding, LSTM, Lambda, Dropout\n",
    "import keras.backend as K\n",
    "from keras.optimizers import Adadelta\n",
    "from keras.callbacks import ModelCheckpoint"
   ]
  },
  {
   "cell_type": "code",
   "execution_count": 16,
   "metadata": {
    "ExecuteTime": {
     "end_time": "2019-09-03T08:21:11.778005Z",
     "start_time": "2019-09-03T08:06:39.569765Z"
    }
   },
   "outputs": [
    {
     "name": "stdout",
     "output_type": "stream",
     "text": [
      "[==================================================] 100.0% 104.8/104.8MB downloaded\n"
     ]
    }
   ],
   "source": [
    "model = api.load('glove-twitter-25')"
   ]
  },
  {
   "cell_type": "code",
   "execution_count": 91,
   "metadata": {
    "ExecuteTime": {
     "end_time": "2019-09-03T14:10:59.693867Z",
     "start_time": "2019-09-03T10:17:14.567231Z"
    }
   },
   "outputs": [
    {
     "name": "stdout",
     "output_type": "stream",
     "text": [
      "[==================================================] 100.0% 1662.8/1662.8MB downloaded\n"
     ]
    }
   ],
   "source": [
    "model2 = api.load('word2vec-google-news-300')"
   ]
  },
  {
   "cell_type": "markdown",
   "metadata": {},
   "source": [
    "# K-NN on Embedding"
   ]
  },
  {
   "cell_type": "code",
   "execution_count": 1159,
   "metadata": {
    "ExecuteTime": {
     "end_time": "2019-09-05T10:11:43.750937Z",
     "start_time": "2019-09-05T10:11:43.680602Z"
    },
    "scrolled": true
   },
   "outputs": [
    {
     "data": {
      "text/html": [
       "<div>\n",
       "<style scoped>\n",
       "    .dataframe tbody tr th:only-of-type {\n",
       "        vertical-align: middle;\n",
       "    }\n",
       "\n",
       "    .dataframe tbody tr th {\n",
       "        vertical-align: top;\n",
       "    }\n",
       "\n",
       "    .dataframe thead th {\n",
       "        text-align: right;\n",
       "    }\n",
       "</style>\n",
       "<table border=\"1\" class=\"dataframe\">\n",
       "  <thead>\n",
       "    <tr style=\"text-align: right;\">\n",
       "      <th></th>\n",
       "      <th>Text</th>\n",
       "      <th>Label</th>\n",
       "    </tr>\n",
       "  </thead>\n",
       "  <tbody>\n",
       "    <tr>\n",
       "      <th>0</th>\n",
       "      <td>How do I fill a DataSet or a DataTable from a ...</td>\n",
       "      <td>18</td>\n",
       "    </tr>\n",
       "    <tr>\n",
       "      <th>1</th>\n",
       "      <td>How do you page a collection with LINQ?</td>\n",
       "      <td>18</td>\n",
       "    </tr>\n",
       "    <tr>\n",
       "      <th>2</th>\n",
       "      <td>Best Subversion clients for Windows Vista (64bit)</td>\n",
       "      <td>3</td>\n",
       "    </tr>\n",
       "    <tr>\n",
       "      <th>3</th>\n",
       "      <td>Best Practice: Collaborative Environment, Bin ...</td>\n",
       "      <td>3</td>\n",
       "    </tr>\n",
       "    <tr>\n",
       "      <th>4</th>\n",
       "      <td>Visual Studio Setup Project - Per User Registr...</td>\n",
       "      <td>7</td>\n",
       "    </tr>\n",
       "  </tbody>\n",
       "</table>\n",
       "</div>"
      ],
      "text/plain": [
       "                                                Text  Label\n",
       "0  How do I fill a DataSet or a DataTable from a ...     18\n",
       "1            How do you page a collection with LINQ?     18\n",
       "2  Best Subversion clients for Windows Vista (64bit)      3\n",
       "3  Best Practice: Collaborative Environment, Bin ...      3\n",
       "4  Visual Studio Setup Project - Per User Registr...      7"
      ]
     },
     "execution_count": 1159,
     "metadata": {},
     "output_type": "execute_result"
    }
   ],
   "source": [
    "df = pd.read_csv(\"stack.csv\")\n",
    "df.head()"
   ]
  },
  {
   "cell_type": "code",
   "execution_count": 1160,
   "metadata": {
    "ExecuteTime": {
     "end_time": "2019-09-05T10:11:45.817926Z",
     "start_time": "2019-09-05T10:11:45.814493Z"
    }
   },
   "outputs": [],
   "source": [
    "num_classes = 2\n",
    "sample_size = 5"
   ]
  },
  {
   "cell_type": "code",
   "execution_count": 1161,
   "metadata": {
    "ExecuteTime": {
     "end_time": "2019-09-05T10:11:46.187764Z",
     "start_time": "2019-09-05T10:11:46.175372Z"
    }
   },
   "outputs": [],
   "source": [
    "df_1 = df[(df[\"Label\"]<num_classes + 1)].reset_index().drop([\"index\"], axis=1).reset_index().drop([\"index\"], axis=1)"
   ]
  },
  {
   "cell_type": "code",
   "execution_count": 1162,
   "metadata": {
    "ExecuteTime": {
     "end_time": "2019-09-05T10:11:46.709720Z",
     "start_time": "2019-09-05T10:11:46.690637Z"
    }
   },
   "outputs": [],
   "source": [
    "def gen_sample(sample_size, num_classes):\n",
    "    \n",
    "    df_1 = df[(df[\"Label\"]<num_classes + 1)].reset_index().drop([\"index\"], axis=1).reset_index().drop([\"index\"], axis=1)\n",
    "    train = df_1[df_1[\"Label\"] == 1].sample(sample_size)\n",
    "    \n",
    "    train_index = train.index.tolist()\n",
    "    \n",
    "    for i in range(2,num_classes+1):\n",
    "        train_2 = df_1[df_1[\"Label\"] == i].sample(sample_size)\n",
    "        train = pd.concat([train, train_2], axis=0)\n",
    "        train_index.extend(train_2.index.tolist())\n",
    "        \n",
    "    test = df_1[~df_1.index.isin(train_index)]\n",
    "    \n",
    "    X_train = train[\"Text\"]\n",
    "    y_train = train[\"Label\"]\n",
    "\n",
    "    X_test = test[\"Text\"]\n",
    "    y_test = test[\"Label\"]\n",
    "\n",
    "    return X_train, X_test, y_train, y_test, train, test"
   ]
  },
  {
   "cell_type": "code",
   "execution_count": 1163,
   "metadata": {
    "ExecuteTime": {
     "end_time": "2019-09-05T10:11:47.371842Z",
     "start_time": "2019-09-05T10:11:47.361665Z"
    }
   },
   "outputs": [],
   "source": [
    "def transform_sentence(text, model):\n",
    "    \n",
    "    \"\"\" Compute an aggregate embedding vector for an input str or iterable of str \"\"\"\n",
    "    \n",
    "    def preprocess_text(raw_text, model=model):\n",
    "        \n",
    "        \"\"\" Prepare text for the model, excluding unknown words\"\"\"\n",
    "        raw_text = raw_text.split()\n",
    "        \n",
    "        return list(filter(lambda x: x in model.vocab, raw_text))\n",
    "    \n",
    "    tokens = preprocess_text(text)\n",
    "    \n",
    "    if not tokens:\n",
    "        return np.zeros(model.vector_size)\n",
    "\n",
    "    text_vector = np.sum(model[tokens], axis=0)\n",
    "    \n",
    "    return np.array(text_vector)"
   ]
  },
  {
   "cell_type": "code",
   "execution_count": 1164,
   "metadata": {
    "ExecuteTime": {
     "end_time": "2019-09-05T10:11:48.419398Z",
     "start_time": "2019-09-05T10:11:48.401310Z"
    }
   },
   "outputs": [],
   "source": [
    "X_train, X_test, y_train, y_test, train, test = gen_sample(sample_size, num_classes)"
   ]
  },
  {
   "cell_type": "code",
   "execution_count": 1165,
   "metadata": {
    "ExecuteTime": {
     "end_time": "2019-09-05T10:11:49.492458Z",
     "start_time": "2019-09-05T10:11:49.382947Z"
    }
   },
   "outputs": [],
   "source": [
    "X_train_sum = X_train.apply(lambda x : transform_sentence(x, model2)).values\n",
    "X_test_sum = X_test.apply(lambda x : transform_sentence(x, model2)).values"
   ]
  },
  {
   "cell_type": "code",
   "execution_count": 1166,
   "metadata": {
    "ExecuteTime": {
     "end_time": "2019-09-05T10:11:50.391227Z",
     "start_time": "2019-09-05T10:11:50.034151Z"
    }
   },
   "outputs": [],
   "source": [
    "X_train_sum = pd.DataFrame(X_train_sum)[0].apply(pd.Series)\n",
    "X_test_sum = pd.DataFrame(X_test_sum)[0].apply(pd.Series)"
   ]
  },
  {
   "cell_type": "code",
   "execution_count": 1170,
   "metadata": {
    "ExecuteTime": {
     "end_time": "2019-09-05T10:12:02.454833Z",
     "start_time": "2019-09-05T10:12:02.443301Z"
    }
   },
   "outputs": [
    {
     "data": {
      "text/plain": [
       "KNeighborsClassifier(algorithm='auto', leaf_size=30, metric='minkowski',\n",
       "           metric_params=None, n_jobs=None, n_neighbors=5, p=2,\n",
       "           weights='uniform')"
      ]
     },
     "execution_count": 1170,
     "metadata": {},
     "output_type": "execute_result"
    }
   ],
   "source": [
    "# Our model is a nearest neighbor classifier, the input of which is the sum of the embeddings of words in the job title.\n",
    "clf = KNeighborsClassifier(n_neighbors=5, p=2)\n",
    "clf.fit(X_train_sum, y_train)"
   ]
  },
  {
   "cell_type": "code",
   "execution_count": 1171,
   "metadata": {
    "ExecuteTime": {
     "end_time": "2019-09-05T10:12:03.031476Z",
     "start_time": "2019-09-05T10:12:03.017737Z"
    }
   },
   "outputs": [
    {
     "data": {
      "text/plain": [
       "0.8487437185929648"
      ]
     },
     "execution_count": 1171,
     "metadata": {},
     "output_type": "execute_result"
    }
   ],
   "source": [
    "clf.score(X_test_sum, y_test)"
   ]
  },
  {
   "cell_type": "code",
   "execution_count": 475,
   "metadata": {
    "ExecuteTime": {
     "end_time": "2019-09-03T15:51:29.005600Z",
     "start_time": "2019-09-03T15:51:28.994957Z"
    }
   },
   "outputs": [],
   "source": [
    "def return_score(sample_size, num_classes):\n",
    "    \n",
    "    X_train, X_test, y_train, y_test = gen_sample(sample_size, num_classes)\n",
    "    \n",
    "    X_train_sum = X_train.apply(lambda x : transform_sentence(x, model2)).values\n",
    "    X_test_sum = X_test.apply(lambda x : transform_sentence(x, model2)).values\n",
    "\n",
    "    X_train_sum = pd.DataFrame(X_train_sum)[0].apply(pd.Series)\n",
    "    X_test_sum = pd.DataFrame(X_test_sum)[0].apply(pd.Series)\n",
    "    \n",
    "    clf = KNeighborsClassifier(n_neighbors=5, p=2)\n",
    "    clf.fit(X_train_sum, y_train)\n",
    "    \n",
    "    return clf.score(X_test_sum, y_test)"
   ]
  },
  {
   "cell_type": "code",
   "execution_count": 482,
   "metadata": {
    "ExecuteTime": {
     "end_time": "2019-09-03T15:58:54.988888Z",
     "start_time": "2019-09-03T15:54:31.063770Z"
    },
    "scrolled": false
   },
   "outputs": [
    {
     "data": {
      "image/png": "[encoded data removed]",
      "text/plain": [
       "<Figure size 864x576 with 1 Axes>"
      ]
     },
     "metadata": {},
     "output_type": "display_data"
    },
    {
     "data": {
      "image/png": "[encoded data removed]",
      "text/plain": [
       "<Figure size 864x576 with 1 Axes>"
      ]
     },
     "metadata": {},
     "output_type": "display_data"
    },
    {
     "data": {
      "image/png": "[encoded data removed]",
      "text/plain": [
       "<Figure size 864x576 with 1 Axes>"
      ]
     },
     "metadata": {},
     "output_type": "display_data"
    },
    {
     "data": {
      "image/png": "[encoded data removed]",
      "text/plain": [
       "<Figure size 864x576 with 1 Axes>"
      ]
     },
     "metadata": {},
     "output_type": "display_data"
    },
    {
     "data": {
      "image/png": "[encoded data removed]",
      "text/plain": [
       "<Figure size 864x576 with 1 Axes>"
      ]
     },
     "metadata": {},
     "output_type": "display_data"
    }
   ],
   "source": [
    "for num_cl in range(2, 7):\n",
    "    all_accuracy = []\n",
    "    x_label = []\n",
    "    for k in range(3,50):\n",
    "        all_accuracy.append(return_score(k,num_cl))\n",
    "        x_label.append(k)\n",
    "        \n",
    "    plt.figure(figsize=(12,8))\n",
    "    plt.plot(x_label, all_accuracy)\n",
    "    plt.title(\"Accuracy depending on the number of samples, %d classes\" % num_cl)\n",
    "    plt.axhline(1/num_cl, c='r')\n",
    "    plt.show()"
   ]
  },
  {
   "cell_type": "markdown",
   "metadata": {},
   "source": [
    "# Siamese Network"
   ]
  },
  {
   "cell_type": "markdown",
   "metadata": {},
   "source": [
    "Build a siamese network where 2 inputs from the same category have a label of 1, and 2 inputs from different categories have a label of 0."
   ]
  },
  {
   "cell_type": "code",
   "execution_count": 1230,
   "metadata": {
    "ExecuteTime": {
     "end_time": "2019-09-06T08:07:09.240601Z",
     "start_time": "2019-09-06T08:07:09.170636Z"
    }
   },
   "outputs": [
    {
     "data": {
      "text/html": [
       "<div>\n",
       "<style scoped>\n",
       "    .dataframe tbody tr th:only-of-type {\n",
       "        vertical-align: middle;\n",
       "    }\n",
       "\n",
       "    .dataframe tbody tr th {\n",
       "        vertical-align: top;\n",
       "    }\n",
       "\n",
       "    .dataframe thead th {\n",
       "        text-align: right;\n",
       "    }\n",
       "</style>\n",
       "<table border=\"1\" class=\"dataframe\">\n",
       "  <thead>\n",
       "    <tr style=\"text-align: right;\">\n",
       "      <th></th>\n",
       "      <th>Text</th>\n",
       "      <th>Label</th>\n",
       "    </tr>\n",
       "  </thead>\n",
       "  <tbody>\n",
       "    <tr>\n",
       "      <th>1521</th>\n",
       "      <td>How to get wordpress page id after looping posts?</td>\n",
       "      <td>1</td>\n",
       "    </tr>\n",
       "    <tr>\n",
       "      <th>1737</th>\n",
       "      <td>Using wp_query to pull content from a specific...</td>\n",
       "      <td>1</td>\n",
       "    </tr>\n",
       "    <tr>\n",
       "      <th>1740</th>\n",
       "      <td>Wordpress - how to show just posts on main index</td>\n",
       "      <td>1</td>\n",
       "    </tr>\n",
       "    <tr>\n",
       "      <th>1660</th>\n",
       "      <td>WordPress: Is it possible to make one particul...</td>\n",
       "      <td>1</td>\n",
       "    </tr>\n",
       "    <tr>\n",
       "      <th>1411</th>\n",
       "      <td>Exclude templates in wordpress page</td>\n",
       "      <td>1</td>\n",
       "    </tr>\n",
       "    <tr>\n",
       "      <th>103</th>\n",
       "      <td>Unit testing for PL/SQL</td>\n",
       "      <td>2</td>\n",
       "    </tr>\n",
       "    <tr>\n",
       "      <th>777</th>\n",
       "      <td>Oracle Form Builder: Switching between tabs in...</td>\n",
       "      <td>2</td>\n",
       "    </tr>\n",
       "    <tr>\n",
       "      <th>111</th>\n",
       "      <td>How to find oracle error codes that could resu...</td>\n",
       "      <td>2</td>\n",
       "    </tr>\n",
       "    <tr>\n",
       "      <th>627</th>\n",
       "      <td>Oracle merge partition from procedure giving e...</td>\n",
       "      <td>2</td>\n",
       "    </tr>\n",
       "    <tr>\n",
       "      <th>817</th>\n",
       "      <td>How do I execute private procedures in an Orac...</td>\n",
       "      <td>2</td>\n",
       "    </tr>\n",
       "  </tbody>\n",
       "</table>\n",
       "</div>"
      ],
      "text/plain": [
       "                                                   Text  Label\n",
       "1521  How to get wordpress page id after looping posts?      1\n",
       "1737  Using wp_query to pull content from a specific...      1\n",
       "1740   Wordpress - how to show just posts on main index      1\n",
       "1660  WordPress: Is it possible to make one particul...      1\n",
       "1411                Exclude templates in wordpress page      1\n",
       "103                             Unit testing for PL/SQL      2\n",
       "777   Oracle Form Builder: Switching between tabs in...      2\n",
       "111   How to find oracle error codes that could resu...      2\n",
       "627   Oracle merge partition from procedure giving e...      2\n",
       "817   How do I execute private procedures in an Orac...      2"
      ]
     },
     "execution_count": 1230,
     "metadata": {},
     "output_type": "execute_result"
    }
   ],
   "source": [
    "train"
   ]
  },
  {
   "cell_type": "code",
   "execution_count": 1258,
   "metadata": {
    "ExecuteTime": {
     "end_time": "2019-09-06T08:09:33.114606Z",
     "start_time": "2019-09-06T08:09:33.108413Z"
    }
   },
   "outputs": [],
   "source": [
    "train_size = 100"
   ]
  },
  {
   "cell_type": "code",
   "execution_count": 1259,
   "metadata": {
    "ExecuteTime": {
     "end_time": "2019-09-06T08:09:33.698213Z",
     "start_time": "2019-09-06T08:09:33.693336Z"
    }
   },
   "outputs": [],
   "source": [
    "test_set = df_1[train_size:]"
   ]
  },
  {
   "cell_type": "code",
   "execution_count": 1260,
   "metadata": {
    "ExecuteTime": {
     "end_time": "2019-09-06T08:09:34.209125Z",
     "start_time": "2019-09-06T08:09:34.202151Z"
    }
   },
   "outputs": [],
   "source": [
    "text_left = []\n",
    "text_right = []\n",
    "target = []\n",
    "\n",
    "unique_labels = df_1[:train_size]['Label'].unique()"
   ]
  },
  {
   "cell_type": "code",
   "execution_count": 1261,
   "metadata": {
    "ExecuteTime": {
     "end_time": "2019-09-06T08:09:34.751910Z",
     "start_time": "2019-09-06T08:09:34.673953Z"
    }
   },
   "outputs": [
    {
     "name": "stderr",
     "output_type": "stream",
     "text": [
      "/Users/maelfabien/.local/lib/python3.6/site-packages/pandas/core/indexes/base.py:3772: RuntimeWarning: '<' not supported between instances of 'str' and 'int', sort order is undefined for incomparable objects\n",
      "  return this.join(other, how=how, return_indexers=return_indexers)\n"
     ]
    }
   ],
   "source": [
    "for label in unique_labels:\n",
    "    \n",
    "    # 1) create similar categories pairs, with a corresponding target of 1\n",
    "    similar_texts = df_1[:train_size][df_1[:train_size]['Label'] == label]['Text']\n",
    "    \n",
    "    # Pick 1000 random pairs from the SOC group's job titles combinations \n",
    "    group_pairs = list(itertools.combinations(similar_texts, 2)) \n",
    "    positive_pairs = sample(group_pairs, 1000) if len(group_pairs) > 1000 else group_pairs\n",
    "    \n",
    "    text_left.extend([p[0] for p in positive_pairs])\n",
    "    text_right.extend([p[1] for p in positive_pairs])\n",
    "    target.extend([1.]*len(positive_pairs))\n",
    "    \n",
    "    # 2) create pairs of examples with jobs from different categories, with a target set to 0\n",
    "    other_texts = df_1[:train_size][df_1[:train_size]['Label'] != df_1[:train_size]]['Text']\n",
    "    \n",
    "    for i in range(len(positive_pairs)):\n",
    "        text_left.append(np.random.choice(similar_texts))\n",
    "        text_right.append(np.random.choice(other_texts))\n",
    "        target.append(0.)"
   ]
  },
  {
   "cell_type": "code",
   "execution_count": 1262,
   "metadata": {
    "ExecuteTime": {
     "end_time": "2019-09-06T08:09:35.266041Z",
     "start_time": "2019-09-06T08:09:35.248019Z"
    }
   },
   "outputs": [
    {
     "data": {
      "text/html": [
       "<div>\n",
       "<style scoped>\n",
       "    .dataframe tbody tr th:only-of-type {\n",
       "        vertical-align: middle;\n",
       "    }\n",
       "\n",
       "    .dataframe tbody tr th {\n",
       "        vertical-align: top;\n",
       "    }\n",
       "\n",
       "    .dataframe thead th {\n",
       "        text-align: right;\n",
       "    }\n",
       "</style>\n",
       "<table border=\"1\" class=\"dataframe\">\n",
       "  <thead>\n",
       "    <tr style=\"text-align: right;\">\n",
       "      <th></th>\n",
       "      <th>text_left</th>\n",
       "      <th>text_right</th>\n",
       "      <th>target</th>\n",
       "    </tr>\n",
       "  </thead>\n",
       "  <tbody>\n",
       "    <tr>\n",
       "      <th>1485</th>\n",
       "      <td>Problem with Oracle Application Server SSL Cer...</td>\n",
       "      <td>Disable and later enable all table indexes in ...</td>\n",
       "      <td>0.0</td>\n",
       "    </tr>\n",
       "    <tr>\n",
       "      <th>1461</th>\n",
       "      <td>How do you connect to a MySQL database using O...</td>\n",
       "      <td>Choosing a desktop database</td>\n",
       "      <td>0.0</td>\n",
       "    </tr>\n",
       "    <tr>\n",
       "      <th>408</th>\n",
       "      <td>How do you know what a good index is?</td>\n",
       "      <td>ORA-01031: insufficient privileges when select...</td>\n",
       "      <td>1.0</td>\n",
       "    </tr>\n",
       "    <tr>\n",
       "      <th>780</th>\n",
       "      <td>Develop on local Oracle instance</td>\n",
       "      <td>SQL/Oracle: when indexes on multiple columns c...</td>\n",
       "      <td>1.0</td>\n",
       "    </tr>\n",
       "    <tr>\n",
       "      <th>365</th>\n",
       "      <td>Joining other tables in oracle tree queries</td>\n",
       "      <td>How do I display the full content of LOB colum...</td>\n",
       "      <td>1.0</td>\n",
       "    </tr>\n",
       "  </tbody>\n",
       "</table>\n",
       "</div>"
      ],
      "text/plain": [
       "                                              text_left  \\\n",
       "1485  Problem with Oracle Application Server SSL Cer...   \n",
       "1461  How do you connect to a MySQL database using O...   \n",
       "408               How do you know what a good index is?   \n",
       "780                    Develop on local Oracle instance   \n",
       "365         Joining other tables in oracle tree queries   \n",
       "\n",
       "                                             text_right  target  \n",
       "1485  Disable and later enable all table indexes in ...     0.0  \n",
       "1461                        Choosing a desktop database     0.0  \n",
       "408   ORA-01031: insufficient privileges when select...     1.0  \n",
       "780   SQL/Oracle: when indexes on multiple columns c...     1.0  \n",
       "365   How do I display the full content of LOB colum...     1.0  "
      ]
     },
     "execution_count": 1262,
     "metadata": {},
     "output_type": "execute_result"
    }
   ],
   "source": [
    "dataset = pd.DataFrame({\n",
    "        'text_left': text_left,\n",
    "        'text_right': text_right,\n",
    "        'target': target\n",
    "    }).sample(frac=1)  # Shuffle dataset\n",
    "\n",
    "dataset.tail()"
   ]
  },
  {
   "cell_type": "code",
   "execution_count": 1263,
   "metadata": {
    "ExecuteTime": {
     "end_time": "2019-09-06T08:09:35.710104Z",
     "start_time": "2019-09-06T08:09:35.702904Z"
    }
   },
   "outputs": [
    {
     "data": {
      "text/plain": [
       "(2072, 3)"
      ]
     },
     "execution_count": 1263,
     "metadata": {},
     "output_type": "execute_result"
    }
   ],
   "source": [
    "dataset.shape"
   ]
  },
  {
   "cell_type": "code",
   "execution_count": 1264,
   "metadata": {
    "ExecuteTime": {
     "end_time": "2019-09-06T08:09:36.184133Z",
     "start_time": "2019-09-06T08:09:36.179590Z"
    }
   },
   "outputs": [],
   "source": [
    "# Prepare embedding\n",
    "vocabulary = dict()\n",
    "inverse_vocabulary = ['<unk>']\n",
    "\n",
    "#word2vec = KeyedVectors.load_word2vec_format(EMBEDDING_FILE, binary=True)\n",
    "\n",
    "text_cols = ['text_left', 'text_right']"
   ]
  },
  {
   "cell_type": "code",
   "execution_count": 1265,
   "metadata": {
    "ExecuteTime": {
     "end_time": "2019-09-06T08:09:36.777355Z",
     "start_time": "2019-09-06T08:09:36.737757Z"
    }
   },
   "outputs": [],
   "source": [
    "def text_to_word_list(text):\n",
    "    ''' \n",
    "    Pre process and convert texts to a list of words\n",
    "    '''\n",
    "\n",
    "    text = str(text)\n",
    "    text = text.lower()\n",
    "\n",
    "    # Clean the text\n",
    "    text = re.sub(r\"[^A-Za-z0-9^,!.\\/'+-=]\", \" \", text)\n",
    "    text = re.sub(r\"what's\", \"what is \", text)\n",
    "    text = re.sub(r\"\\'s\", \" \", text)\n",
    "    text = re.sub(r\"\\'ve\", \" have \", text)\n",
    "    text = re.sub(r\"can't\", \"cannot \", text)\n",
    "    text = re.sub(r\"n't\", \" not \", text)\n",
    "    text = re.sub(r\"i'm\", \"i am \", text)\n",
    "    text = re.sub(r\"\\'re\", \" are \", text)\n",
    "    text = re.sub(r\"\\'d\", \" would \", text)\n",
    "    text = re.sub(r\"\\'ll\", \" will \", text)\n",
    "    text = re.sub(r\",\", \" \", text)\n",
    "    text = re.sub(r\"\\.\", \" \", text)\n",
    "    text = re.sub(r\"!\", \" ! \", text)\n",
    "    text = re.sub(r\"\\/\", \" \", text)\n",
    "    text = re.sub(r\"\\^\", \" ^ \", text)\n",
    "    text = re.sub(r\"\\+\", \" + \", text)\n",
    "    text = re.sub(r\"\\-\", \" - \", text)\n",
    "    text = re.sub(r\"\\=\", \" = \", text)\n",
    "    text = re.sub(r\"'\", \" \", text)\n",
    "    text = re.sub(r\"(\\d+)(k)\", r\"\\g<1>000\", text)\n",
    "    text = re.sub(r\":\", \" : \", text)\n",
    "    text = re.sub(r\" e g \", \" eg \", text)\n",
    "    text = re.sub(r\" b g \", \" bg \", text)\n",
    "    text = re.sub(r\" u s \", \" american \", text)\n",
    "    text = re.sub(r\"\\0s\", \"0\", text)\n",
    "    text = re.sub(r\" 9 11 \", \"911\", text)\n",
    "    text = re.sub(r\"e - mail\", \"email\", text)\n",
    "    text = re.sub(r\"j k\", \"jk\", text)\n",
    "    text = re.sub(r\"\\s{2,}\", \" \", text)\n",
    "\n",
    "    text = text.split()\n",
    "\n",
    "    return text"
   ]
  },
  {
   "cell_type": "code",
   "execution_count": 1266,
   "metadata": {
    "ExecuteTime": {
     "end_time": "2019-09-06T08:09:37.327565Z",
     "start_time": "2019-09-06T08:09:37.319696Z"
    }
   },
   "outputs": [],
   "source": [
    "stops = set(stopwords.words('english'))"
   ]
  },
  {
   "cell_type": "code",
   "execution_count": 1267,
   "metadata": {
    "ExecuteTime": {
     "end_time": "2019-09-06T08:09:38.566518Z",
     "start_time": "2019-09-06T08:09:38.012050Z"
    }
   },
   "outputs": [
    {
     "name": "stderr",
     "output_type": "stream",
     "text": [
      "/anaconda3/lib/python3.6/site-packages/ipykernel_launcher.py:24: FutureWarning: set_value is deprecated and will be removed in a future release. Please use .at[] or .iat[] accessors instead\n"
     ]
    }
   ],
   "source": [
    "# Iterate over the questions only of both training and test datasets\n",
    "#for dataset in [train_df, test_df]:\n",
    "\n",
    "for index, row in dataset.iterrows():\n",
    "\n",
    "    # Iterate through the text of both questions of the row\n",
    "    for text in text_cols:\n",
    "\n",
    "        t2n = []  # t2n -> text numbers representation\n",
    "        for word in text_to_word_list(row[text]):\n",
    "\n",
    "            # Check for unwanted words\n",
    "            if word in stops and word not in model2.vocab:\n",
    "                continue\n",
    "\n",
    "            if word not in vocabulary:\n",
    "                vocabulary[word] = len(inverse_vocabulary)\n",
    "                t2n.append(len(inverse_vocabulary))\n",
    "                inverse_vocabulary.append(word)\n",
    "            else:\n",
    "                t2n.append(vocabulary[word])\n",
    "\n",
    "        # Replace questions as word to question as number representation\n",
    "        dataset.set_value(index, text, t2n)"
   ]
  },
  {
   "cell_type": "code",
   "execution_count": 1268,
   "metadata": {
    "ExecuteTime": {
     "end_time": "2019-09-06T08:09:38.587904Z",
     "start_time": "2019-09-06T08:09:38.570095Z"
    }
   },
   "outputs": [
    {
     "data": {
      "text/html": [
       "<div>\n",
       "<style scoped>\n",
       "    .dataframe tbody tr th:only-of-type {\n",
       "        vertical-align: middle;\n",
       "    }\n",
       "\n",
       "    .dataframe tbody tr th {\n",
       "        vertical-align: top;\n",
       "    }\n",
       "\n",
       "    .dataframe thead th {\n",
       "        text-align: right;\n",
       "    }\n",
       "</style>\n",
       "<table border=\"1\" class=\"dataframe\">\n",
       "  <thead>\n",
       "    <tr style=\"text-align: right;\">\n",
       "      <th></th>\n",
       "      <th>text_left</th>\n",
       "      <th>text_right</th>\n",
       "      <th>target</th>\n",
       "    </tr>\n",
       "  </thead>\n",
       "  <tbody>\n",
       "    <tr>\n",
       "      <th>1495</th>\n",
       "      <td>[1, 2, 3, 4, 5, 6, 7, 8, 9, 10, 11, 12, 13, 14...</td>\n",
       "      <td>[16, 17, 18, 19, 20, 21, 22, 23, 24, 25]</td>\n",
       "      <td>0.0</td>\n",
       "    </tr>\n",
       "    <tr>\n",
       "      <th>1934</th>\n",
       "      <td>[11, 26, 27, 28]</td>\n",
       "      <td>[16, 29, 18, 30, 31, 32, 33, 11, 34, 35]</td>\n",
       "      <td>0.0</td>\n",
       "    </tr>\n",
       "    <tr>\n",
       "      <th>1028</th>\n",
       "      <td>[36, 1, 6, 37, 38, 39, 11]</td>\n",
       "      <td>[16, 29, 40, 41, 6, 42, 43, 44, 45, 46, 26, 11...</td>\n",
       "      <td>0.0</td>\n",
       "    </tr>\n",
       "    <tr>\n",
       "      <th>599</th>\n",
       "      <td>[48, 4, 49, 50, 39, 11, 51, 52, 53]</td>\n",
       "      <td>[11, 54, 55, 56]</td>\n",
       "      <td>1.0</td>\n",
       "    </tr>\n",
       "    <tr>\n",
       "      <th>1044</th>\n",
       "      <td>[16, 22, 57, 58, 11, 59, 34]</td>\n",
       "      <td>[11, 60, 36, 61, 62, 63, 64, 40, 33]</td>\n",
       "      <td>0.0</td>\n",
       "    </tr>\n",
       "  </tbody>\n",
       "</table>\n",
       "</div>"
      ],
      "text/plain": [
       "                                              text_left  \\\n",
       "1495  [1, 2, 3, 4, 5, 6, 7, 8, 9, 10, 11, 12, 13, 14...   \n",
       "1934                                   [11, 26, 27, 28]   \n",
       "1028                         [36, 1, 6, 37, 38, 39, 11]   \n",
       "599                 [48, 4, 49, 50, 39, 11, 51, 52, 53]   \n",
       "1044                       [16, 22, 57, 58, 11, 59, 34]   \n",
       "\n",
       "                                             text_right  target  \n",
       "1495           [16, 17, 18, 19, 20, 21, 22, 23, 24, 25]     0.0  \n",
       "1934           [16, 29, 18, 30, 31, 32, 33, 11, 34, 35]     0.0  \n",
       "1028  [16, 29, 40, 41, 6, 42, 43, 44, 45, 46, 26, 11...     0.0  \n",
       "599                                    [11, 54, 55, 56]     1.0  \n",
       "1044               [11, 60, 36, 61, 62, 63, 64, 40, 33]     0.0  "
      ]
     },
     "execution_count": 1268,
     "metadata": {},
     "output_type": "execute_result"
    }
   ],
   "source": [
    "dataset.head()"
   ]
  },
  {
   "cell_type": "code",
   "execution_count": 1269,
   "metadata": {
    "ExecuteTime": {
     "end_time": "2019-09-06T08:09:38.920247Z",
     "start_time": "2019-09-06T08:09:38.776177Z"
    }
   },
   "outputs": [],
   "source": [
    "embedding_dim = 300\n",
    "embeddings = 1 * np.random.randn(len(vocabulary) + 1, embedding_dim)  # This will be the embedding matrix\n",
    "embeddings[0] = 0  # So that the padding will be ignored\n",
    "\n",
    "# Build the embedding matrix\n",
    "for word, index in vocabulary.items():\n",
    "    if word in model2.vocab:\n",
    "        embeddings[index] = model2.word_vec(word)"
   ]
  },
  {
   "cell_type": "code",
   "execution_count": 1270,
   "metadata": {
    "ExecuteTime": {
     "end_time": "2019-09-06T08:09:39.221930Z",
     "start_time": "2019-09-06T08:09:39.214878Z"
    }
   },
   "outputs": [
    {
     "data": {
      "text/plain": [
       "(414, 300)"
      ]
     },
     "execution_count": 1270,
     "metadata": {},
     "output_type": "execute_result"
    }
   ],
   "source": [
    "embeddings.shape"
   ]
  },
  {
   "cell_type": "code",
   "execution_count": 1271,
   "metadata": {
    "ExecuteTime": {
     "end_time": "2019-09-06T08:09:39.678688Z",
     "start_time": "2019-09-06T08:09:39.666737Z"
    }
   },
   "outputs": [],
   "source": [
    "validation_size = 20\n",
    "training_size = len(dataset) - validation_size\n",
    "\n",
    "X = dataset[text_cols]\n",
    "Y = dataset['target']"
   ]
  },
  {
   "cell_type": "code",
   "execution_count": 1272,
   "metadata": {
    "ExecuteTime": {
     "end_time": "2019-09-06T08:09:40.118690Z",
     "start_time": "2019-09-06T08:09:40.109179Z"
    }
   },
   "outputs": [
    {
     "data": {
      "text/plain": [
       "(2072, 2)"
      ]
     },
     "execution_count": 1272,
     "metadata": {},
     "output_type": "execute_result"
    }
   ],
   "source": [
    "X.shape"
   ]
  },
  {
   "cell_type": "code",
   "execution_count": 1273,
   "metadata": {
    "ExecuteTime": {
     "end_time": "2019-09-06T08:09:40.606131Z",
     "start_time": "2019-09-06T08:09:40.597707Z"
    }
   },
   "outputs": [],
   "source": [
    "X_train, X_test, y_train, y_test = train_test_split(X, Y, test_size=0.25)"
   ]
  },
  {
   "cell_type": "code",
   "execution_count": 1274,
   "metadata": {
    "ExecuteTime": {
     "end_time": "2019-09-06T08:09:41.129713Z",
     "start_time": "2019-09-06T08:09:41.121243Z"
    }
   },
   "outputs": [],
   "source": [
    "max_seq_length = max(X_train.text_left.map(lambda x: len(x)).max(),\n",
    "                     X_test.text_right.map(lambda x: len(x)).max())"
   ]
  },
  {
   "cell_type": "code",
   "execution_count": 1275,
   "metadata": {
    "ExecuteTime": {
     "end_time": "2019-09-06T08:09:44.776383Z",
     "start_time": "2019-09-06T08:09:44.769521Z"
    }
   },
   "outputs": [
    {
     "data": {
      "text/plain": [
       "25"
      ]
     },
     "execution_count": 1275,
     "metadata": {},
     "output_type": "execute_result"
    }
   ],
   "source": [
    "max_seq_length"
   ]
  },
  {
   "cell_type": "code",
   "execution_count": 1276,
   "metadata": {
    "ExecuteTime": {
     "end_time": "2019-09-06T08:09:45.399473Z",
     "start_time": "2019-09-06T08:09:45.387546Z"
    }
   },
   "outputs": [],
   "source": [
    "# Split to dicts\n",
    "X_train = {'left': X_train.text_left, 'right': X_train.text_right}\n",
    "X_test = {'left': X_test.text_left, 'right': X_test.text_right}\n",
    "\n",
    "# Convert labels to their numpy representations\n",
    "y_train = y_train.values\n",
    "\n",
    "#X_val = {'left': X_val.text_left, 'right': X_val.text_right}\n",
    "#Y_val = Y_val.values"
   ]
  },
  {
   "cell_type": "code",
   "execution_count": 1277,
   "metadata": {
    "ExecuteTime": {
     "end_time": "2019-09-06T08:09:46.148265Z",
     "start_time": "2019-09-06T08:09:46.105241Z"
    }
   },
   "outputs": [],
   "source": [
    "# Zero padding\n",
    "for dataset, side in itertools.product([X_train, X_test], ['left', 'right']):\n",
    "    dataset[side] = pad_sequences(dataset[side],  maxlen=max_seq_length)"
   ]
  },
  {
   "cell_type": "code",
   "execution_count": 1278,
   "metadata": {
    "ExecuteTime": {
     "end_time": "2019-09-06T08:09:46.535172Z",
     "start_time": "2019-09-06T08:09:46.527307Z"
    }
   },
   "outputs": [
    {
     "name": "stdout",
     "output_type": "stream",
     "text": [
      "True\n"
     ]
    }
   ],
   "source": [
    "print(X_train['left'].shape == X_train['right'].shape)"
   ]
  },
  {
   "cell_type": "code",
   "execution_count": 1279,
   "metadata": {
    "ExecuteTime": {
     "end_time": "2019-09-06T08:09:46.970016Z",
     "start_time": "2019-09-06T08:09:46.965045Z"
    }
   },
   "outputs": [
    {
     "name": "stdout",
     "output_type": "stream",
     "text": [
      "True\n"
     ]
    }
   ],
   "source": [
    "print(len(X_train['left']) == len(y_train))"
   ]
  },
  {
   "cell_type": "code",
   "execution_count": 1280,
   "metadata": {
    "ExecuteTime": {
     "end_time": "2019-09-06T08:09:47.358796Z",
     "start_time": "2019-09-06T08:09:47.352659Z"
    }
   },
   "outputs": [],
   "source": [
    "# Model variables\n",
    "n_hidden = 50\n",
    "gradient_clipping_norm = 1.25\n",
    "batch_size = 64\n",
    "n_epoch = 25\n",
    "\n",
    "def exponent_neg_manhattan_distance(left, right):\n",
    "    ''' Helper function for the similarity estimate of the LSTMs outputs'''\n",
    "    return K.exp(-K.sum(K.abs(left-right), axis=1, keepdims=True))"
   ]
  },
  {
   "cell_type": "code",
   "execution_count": 1281,
   "metadata": {
    "ExecuteTime": {
     "end_time": "2019-09-06T08:09:47.737694Z",
     "start_time": "2019-09-06T08:09:47.730026Z"
    }
   },
   "outputs": [],
   "source": [
    "def contrastive_loss(y_true, y_pred):\n",
    "    '''Contrastive loss from Hadsell-et-al.'06\n",
    "    '''\n",
    "    margin = 1\n",
    "    sqaure_pred = K.square(y_pred)\n",
    "    margin_square = K.square(K.maximum(margin - y_pred, 0))\n",
    "    return K.mean(y_true * sqaure_pred + (1 - y_true) * margin_square)"
   ]
  },
  {
   "cell_type": "code",
   "execution_count": 1282,
   "metadata": {
    "ExecuteTime": {
     "end_time": "2019-09-06T08:09:53.805442Z",
     "start_time": "2019-09-06T08:09:48.078772Z"
    },
    "scrolled": true
   },
   "outputs": [
    {
     "name": "stdout",
     "output_type": "stream",
     "text": [
      "__________________________________________________________________________________________________\n",
      "Layer (type)                    Output Shape         Param #     Connected to                     \n",
      "==================================================================================================\n",
      "input_53 (InputLayer)           (None, 25)           0                                            \n",
      "__________________________________________________________________________________________________\n",
      "input_54 (InputLayer)           (None, 25)           0                                            \n",
      "__________________________________________________________________________________________________\n",
      "sequential_20 (Sequential)      (None, 50)           194400      input_53[0][0]                   \n",
      "                                                                 input_54[0][0]                   \n",
      "__________________________________________________________________________________________________\n",
      "lambda_24 (Lambda)              (None, 1)            0           sequential_20[1][0]              \n",
      "                                                                 sequential_20[2][0]              \n",
      "==================================================================================================\n",
      "Total params: 194,400\n",
      "Trainable params: 70,200\n",
      "Non-trainable params: 124,200\n",
      "__________________________________________________________________________________________________\n"
     ]
    }
   ],
   "source": [
    "# Define the tensors for the two input images\n",
    "left_input = Input(shape=(max_seq_length,), dtype='int32')\n",
    "right_input = Input(shape=(max_seq_length,), dtype='int32')\n",
    "\n",
    "inside_model = Sequential()\n",
    "inside_model.add(Embedding(len(embeddings), embedding_dim, weights=[embeddings], input_length=max_seq_length, trainable=False))\n",
    "inside_model.add(LSTM(n_hidden))\n",
    "\n",
    "left_output = inside_model(left_input)\n",
    "right_output = inside_model(right_input)\n",
    "\n",
    "# Calculates the distance as defined by the MaLSTM model\n",
    "malstm_distance = Lambda(function=lambda x: exponent_neg_manhattan_distance(x[0], x[1]),output_shape=lambda x: (x[0][0], 1))([left_output, right_output])\n",
    "\n",
    "# Pack it all up into a model\n",
    "siamese_net = Model([left_input, right_input], [malstm_distance])\n",
    "\n",
    "# Adadelta optimizer, with gradient clipping by norm\n",
    "optimizer = Adadelta(clipnorm=gradient_clipping_norm)\n",
    "\n",
    "siamese_net.compile(loss='mean_squared_error', optimizer=optimizer, metrics=['accuracy'])\n",
    "siamese_net.summary()\n",
    "\n",
    "#plot_model(siamese_net, to_file='model.png', show_shapes=True)"
   ]
  },
  {
   "cell_type": "code",
   "execution_count": 1283,
   "metadata": {
    "ExecuteTime": {
     "end_time": "2019-09-06T08:10:43.545946Z",
     "start_time": "2019-09-06T08:09:54.295421Z"
    }
   },
   "outputs": [
    {
     "name": "stdout",
     "output_type": "stream",
     "text": [
      "Train on 1554 samples, validate on 518 samples\n",
      "Epoch 1/25\n",
      "1554/1554 [==============================] - 7s 5ms/step - loss: 0.4570 - acc: 0.5103 - val_loss: 0.4896 - val_acc: 0.4498\n",
      "Epoch 2/25\n",
      "1554/1554 [==============================] - 2s 1ms/step - loss: 0.4109 - acc: 0.5103 - val_loss: 0.4263 - val_acc: 0.4498\n",
      "Epoch 3/25\n",
      "1554/1554 [==============================] - 2s 1ms/step - loss: 0.3574 - acc: 0.5097 - val_loss: 0.3814 - val_acc: 0.4459\n",
      "Epoch 4/25\n",
      "1554/1554 [==============================] - 2s 1ms/step - loss: 0.3258 - acc: 0.5212 - val_loss: 0.3507 - val_acc: 0.4498\n",
      "Epoch 5/25\n",
      "1554/1554 [==============================] - 2s 1ms/step - loss: 0.3045 - acc: 0.5425 - val_loss: 0.3339 - val_acc: 0.4653\n",
      "Epoch 6/25\n",
      "1554/1554 [==============================] - 2s 1ms/step - loss: 0.2912 - acc: 0.5592 - val_loss: 0.3192 - val_acc: 0.4768\n",
      "Epoch 7/25\n",
      "1554/1554 [==============================] - 2s 1ms/step - loss: 0.2761 - acc: 0.5856 - val_loss: 0.3199 - val_acc: 0.4710\n",
      "Epoch 8/25\n",
      "1554/1554 [==============================] - 2s 1ms/step - loss: 0.2693 - acc: 0.5869 - val_loss: 0.2966 - val_acc: 0.4768\n",
      "Epoch 9/25\n",
      "1554/1554 [==============================] - 2s 1ms/step - loss: 0.2559 - acc: 0.5985 - val_loss: 0.2891 - val_acc: 0.4981\n",
      "Epoch 10/25\n",
      "1554/1554 [==============================] - 2s 1ms/step - loss: 0.2475 - acc: 0.6165 - val_loss: 0.2747 - val_acc: 0.4846\n",
      "Epoch 11/25\n",
      "1554/1554 [==============================] - 2s 1ms/step - loss: 0.2409 - acc: 0.6371 - val_loss: 0.2753 - val_acc: 0.5058\n",
      "Epoch 12/25\n",
      "1554/1554 [==============================] - 2s 1ms/step - loss: 0.2380 - acc: 0.6384 - val_loss: 0.2797 - val_acc: 0.5097\n",
      "Epoch 13/25\n",
      "1554/1554 [==============================] - 2s 1ms/step - loss: 0.2345 - acc: 0.6409 - val_loss: 0.2735 - val_acc: 0.4923\n",
      "Epoch 14/25\n",
      "1554/1554 [==============================] - 2s 1ms/step - loss: 0.2297 - acc: 0.6519 - val_loss: 0.2669 - val_acc: 0.5135\n",
      "Epoch 15/25\n",
      "1554/1554 [==============================] - 2s 1ms/step - loss: 0.2280 - acc: 0.6570 - val_loss: 0.2659 - val_acc: 0.5077\n",
      "Epoch 16/25\n",
      "1554/1554 [==============================] - 2s 1ms/step - loss: 0.2236 - acc: 0.6705 - val_loss: 0.2639 - val_acc: 0.5135\n",
      "Epoch 17/25\n",
      "1554/1554 [==============================] - 2s 1ms/step - loss: 0.2202 - acc: 0.6667 - val_loss: 0.2626 - val_acc: 0.4884\n",
      "Epoch 18/25\n",
      "1554/1554 [==============================] - 2s 1ms/step - loss: 0.2162 - acc: 0.6680 - val_loss: 0.2611 - val_acc: 0.4826\n",
      "Epoch 19/25\n",
      "1554/1554 [==============================] - 2s 1ms/step - loss: 0.2140 - acc: 0.6905 - val_loss: 0.2614 - val_acc: 0.5116\n",
      "Epoch 20/25\n",
      "1554/1554 [==============================] - 2s 1ms/step - loss: 0.2133 - acc: 0.6802 - val_loss: 0.2561 - val_acc: 0.5039\n",
      "Epoch 21/25\n",
      "1554/1554 [==============================] - 2s 1ms/step - loss: 0.2105 - acc: 0.6976 - val_loss: 0.2561 - val_acc: 0.4903\n",
      "Epoch 22/25\n",
      "1554/1554 [==============================] - 2s 1ms/step - loss: 0.2085 - acc: 0.7053 - val_loss: 0.2586 - val_acc: 0.5039\n",
      "Epoch 23/25\n",
      "1554/1554 [==============================] - 2s 1ms/step - loss: 0.2075 - acc: 0.7059 - val_loss: 0.2564 - val_acc: 0.5000\n",
      "Epoch 24/25\n",
      "1554/1554 [==============================] - 2s 1ms/step - loss: 0.2060 - acc: 0.7053 - val_loss: 0.2592 - val_acc: 0.5097\n",
      "Epoch 25/25\n",
      "1554/1554 [==============================] - 2s 1ms/step - loss: 0.2072 - acc: 0.7098 - val_loss: 0.2524 - val_acc: 0.4942\n",
      "Training time finished.\n",
      "25 epochs in 0:00:49.244709\n"
     ]
    }
   ],
   "source": [
    "# Start training\n",
    "training_start_time = time()\n",
    "\n",
    "malstm_trained = siamese_net.fit([X_train['left'], X_train['right']], y_train, batch_size=batch_size, epochs=n_epoch,\n",
    "                            validation_data=([X_test['left'], X_test['right']], y_test))\n",
    "\n",
    "print(\"Training time finished.\\n{} epochs in {}\".format(n_epoch, datetime.timedelta(seconds=time()-training_start_time)))"
   ]
  },
  {
   "cell_type": "code",
   "execution_count": 1284,
   "metadata": {
    "ExecuteTime": {
     "end_time": "2019-09-06T08:10:51.897600Z",
     "start_time": "2019-09-06T08:10:51.460686Z"
    }
   },
   "outputs": [
    {
     "data": {
      "image/png": "[encoded data removed]",
      "text/plain": [
       "<Figure size 432x288 with 1 Axes>"
      ]
     },
     "metadata": {},
     "output_type": "display_data"
    },
    {
     "data": {
      "image/png": "[encoded data removed]",
      "text/plain": [
       "<Figure size 432x288 with 1 Axes>"
      ]
     },
     "metadata": {},
     "output_type": "display_data"
    }
   ],
   "source": [
    "# Plot accuracy\n",
    "plt.plot(malstm_trained.history['acc'])\n",
    "plt.plot(malstm_trained.history['val_acc'])\n",
    "plt.title('Model Accuracy')\n",
    "plt.ylabel('Accuracy')\n",
    "plt.xlabel('Epoch')\n",
    "plt.legend(['Train', 'Validation'], loc='upper left')\n",
    "plt.show()\n",
    "\n",
    "# Plot loss\n",
    "plt.plot(malstm_trained.history['loss'])\n",
    "plt.plot(malstm_trained.history['val_loss'])\n",
    "plt.title('Model Loss')\n",
    "plt.ylabel('Loss')\n",
    "plt.xlabel('Epoch')\n",
    "plt.legend(['Train', 'Validation'], loc='upper right')\n",
    "plt.show()"
   ]
  },
  {
   "cell_type": "markdown",
   "metadata": {},
   "source": [
    "## Prediction"
   ]
  },
  {
   "cell_type": "code",
   "execution_count": 1285,
   "metadata": {
    "ExecuteTime": {
     "end_time": "2019-09-06T08:10:54.119877Z",
     "start_time": "2019-09-06T08:10:54.108933Z"
    }
   },
   "outputs": [],
   "source": [
    "def process_text(txt):\n",
    "    \n",
    "    t2n = []\n",
    "    for word in text_to_word_list(txt):\n",
    "\n",
    "        # Check for unwanted words\n",
    "        if word in stops and word not in model2.vocab:\n",
    "            continue\n",
    "\n",
    "        if word not in vocabulary:\n",
    "            pass\n",
    "        \n",
    "        else:\n",
    "            t2n.append(vocabulary[word])\n",
    "        \n",
    "    txt = pad_sequences([t2n],  maxlen=max_seq_length)\n",
    "        \n",
    "    return txt"
   ]
  },
  {
   "cell_type": "code",
   "execution_count": 1286,
   "metadata": {
    "ExecuteTime": {
     "end_time": "2019-09-06T08:10:54.914824Z",
     "start_time": "2019-09-06T08:10:54.900797Z"
    }
   },
   "outputs": [],
   "source": [
    "def get_prediction(text):\n",
    "    \"\"\"\n",
    "    Get the predicted class\n",
    "    \"\"\"\n",
    "\n",
    "    x = process_text([text])\n",
    "\n",
    "    # Compute similarities of the job title with all job titles in the train set\n",
    "    similarities = siamese_net.predict([[x[0]]*len(X_train['left']), X_train['left']])\n",
    "    most_similar_index = np.argmax(similarities)\n",
    "\n",
    "    # The predicted category is the one of the most similar example from the train set\n",
    "    prediction = pd.DataFrame(y_train).iloc[most_similar_index]\n",
    "    #most_similar_example = pd.DataFrame(X_train['left']).iloc[most_similar_index]\n",
    "\n",
    "    return prediction\n"
   ]
  },
  {
   "cell_type": "code",
   "execution_count": 1227,
   "metadata": {
    "ExecuteTime": {
     "end_time": "2019-09-05T10:33:53.131559Z",
     "start_time": "2019-09-05T10:25:53.853641Z"
    }
   },
   "outputs": [],
   "source": [
    "all_pred = []\n",
    "for i in test[\"Text\"].values:\n",
    "    all_pred.append(get_prediction(i))"
   ]
  },
  {
   "cell_type": "code",
   "execution_count": 1228,
   "metadata": {
    "ExecuteTime": {
     "end_time": "2019-09-05T10:33:53.432693Z",
     "start_time": "2019-09-05T10:33:53.134150Z"
    }
   },
   "outputs": [
    {
     "data": {
      "text/plain": [
       "0.39246231155778893"
      ]
     },
     "execution_count": 1228,
     "metadata": {},
     "output_type": "execute_result"
    }
   ],
   "source": [
    "accuracy_score(all_pred, test[\"Label\"]-1)"
   ]
  },
  {
   "cell_type": "code",
   "execution_count": 1287,
   "metadata": {
    "ExecuteTime": {
     "end_time": "2019-09-06T08:11:23.850750Z",
     "start_time": "2019-09-06T08:11:21.348149Z"
    },
    "scrolled": false
   },
   "outputs": [
    {
     "data": {
      "text/plain": [
       "0    1.0\n",
       "Name: 43, dtype: float64"
      ]
     },
     "execution_count": 1287,
     "metadata": {},
     "output_type": "execute_result"
    }
   ],
   "source": [
    "get_prediction(\"Hello you\")"
   ]
  },
  {
   "cell_type": "code",
   "execution_count": null,
   "metadata": {},
   "outputs": [],
   "source": []
  },
  {
   "cell_type": "code",
   "execution_count": null,
   "metadata": {},
   "outputs": [],
   "source": [
    "mean_embedding_class_0 = np.mean(inside_model.predict(X_train[\"left\"][y_train==0]), axis=0)\n",
    "mean_embedding_class_1 = np.mean(inside_model.predict(X_train[\"left\"][y_train==1]), axis=0)\n",
    "\n",
    "all_embedings = inside_model.predict(X_test[\"left\"])\n",
    "all_score = []\n",
    "\n",
    "for a in all_embedings :\n",
    "\n",
    "    if np.linalg.norm(a-mean_embedding_class_0) < np.linalg.norm(a-mean_embedding_class_1) :\n",
    "        all_score.append(0)\n",
    "    else :\n",
    "        all_score.append(1)\n",
    "        \n",
    "accuracy_score(all_score, y_test)"
   ]
  }
 ],
 "metadata": {
  "kernelspec": {
   "display_name": "Python 3",
   "language": "python",
   "name": "python3"
  },
  "language_info": {
   "codemirror_mode": {
    "name": "ipython",
    "version": 3
   },
   "file_extension": ".py",
   "mimetype": "text/x-python",
   "name": "python",
   "nbconvert_exporter": "python",
   "pygments_lexer": "ipython3",
   "version": "3.6.5"
  },
  "latex_envs": {
   "LaTeX_envs_menu_present": true,
   "autoclose": false,
   "autocomplete": true,
   "bibliofile": "biblio.bib",
   "cite_by": "apalike",
   "current_citInitial": 1,
   "eqLabelWithNumbers": true,
   "eqNumInitial": 1,
   "hotkeys": {
    "equation": "Ctrl-E",
    "itemize": "Ctrl-I"
   },
   "labels_anchors": false,
   "latex_user_defs": false,
   "report_style_numbering": false,
   "user_envs_cfg": false
  }
 },
 "nbformat": 4,
 "nbformat_minor": 2
}
